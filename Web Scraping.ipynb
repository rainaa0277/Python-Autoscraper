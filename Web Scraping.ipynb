{
 "cells": [
  {
   "cell_type": "code",
   "execution_count": 2,
   "id": "7a2c0282",
   "metadata": {
    "ExecuteTime": {
     "end_time": "2022-03-19T20:05:08.528793Z",
     "start_time": "2022-03-19T20:05:08.521812Z"
    }
   },
   "outputs": [],
   "source": [
    "! pip install autoscraper"
   ]
  },
  {
   "cell_type": "code",
   "execution_count": 11,
   "id": "0639b32f",
   "metadata": {
    "ExecuteTime": {
     "end_time": "2022-03-19T20:16:28.456745Z",
     "start_time": "2022-03-19T20:16:28.441785Z"
    }
   },
   "outputs": [],
   "source": [
    "from autoscraper import AutoScraper"
   ]
  },
  {
   "cell_type": "code",
   "execution_count": 30,
   "id": "4f7f47ca",
   "metadata": {
    "ExecuteTime": {
     "end_time": "2022-03-19T20:26:25.297850Z",
     "start_time": "2022-03-19T20:26:25.282886Z"
    }
   },
   "outputs": [],
   "source": [
    "flipkart_url = \"https://www.flipkart.com/search?q=iphones&otracker=search&otracker1=search&marketplace=FLIPKART&as-show=on&as=off\"\n",
    "wanted_list = [\"APPLE iPhone SE (Red, 128 GB)\",\"₹34,999\",\"4.51,47,123 Ratings & 11,561 Reviews\"]"
   ]
  },
  {
   "cell_type": "code",
   "execution_count": 31,
   "id": "c5b5155b",
   "metadata": {
    "ExecuteTime": {
     "end_time": "2022-03-19T20:26:27.572099Z",
     "start_time": "2022-03-19T20:26:25.663158Z"
    }
   },
   "outputs": [],
   "source": [
    "scraper = AutoScraper()\n",
    "result = scraper.build(flipkart_url, wanted_list)"
   ]
  },
  {
   "cell_type": "code",
   "execution_count": 32,
   "id": "cc5a10cd",
   "metadata": {
    "ExecuteTime": {
     "end_time": "2022-03-19T20:26:27.598058Z",
     "start_time": "2022-03-19T20:26:27.577113Z"
    }
   },
   "outputs": [
    {
     "name": "stdout",
     "output_type": "stream",
     "text": [
      "['APPLE iPhone SE (Red, 128 GB)', 'APPLE iPhone 13 (Midnight, 128 GB)', 'APPLE iPhone 13 (Starlight, 128 GB)', 'APPLE iPhone 13 (Blue, 128 GB)', 'APPLE iPhone SE (Red, 64 GB)', 'APPLE iPhone 12 Mini (Blue, 256 GB)', 'APPLE iPhone 12 Mini (Black, 256 GB)', 'APPLE iPhone 12 Mini (Purple, 256 GB)', 'APPLE iPhone 13 (Green, 128 GB)', 'APPLE iPhone SE (White, 64 GB)', 'APPLE iPhone 11 (Green, 64 GB)', 'APPLE iPhone SE (Black, 128 GB)', 'APPLE iPhone 12 Mini (Blue, 64 GB)', 'APPLE iPhone SE (White, 128 GB)', 'APPLE iPhone 13 (Midnight, 256 GB)', 'APPLE iPhone 11 (White, 128 GB)', 'APPLE iPhone 12 Mini (Green, 64 GB)', 'APPLE iPhone 12 Mini (Red, 256 GB)', 'APPLE iPhone 12 (Purple, 128 GB)', 'APPLE iPhone 11 (Red, 128 GB)', 'APPLE iPhone 12 Mini (Black, 64 GB)', 'APPLE iPhone 13 ((PRODUCT)RED, 256 GB)', 'APPLE iPhone 11 (Green, 128 GB)', 'APPLE iPhone 13 Mini (Midnight, 128 GB)', '₹34,999', '₹74,900', '₹30,299', '₹65,299', '₹49,900', '₹49,999', '₹84,900', '₹54,900', '₹65,071', '₹64,900', '4.51,47,123 Ratings & 11,561 Reviews', '4.62,825 Ratings & 322 Reviews', '4.594,599 Ratings & 7,709 Reviews', '4.678,397 Ratings & 5,906 Reviews', '4.61,65,941 Ratings & 11,386 Reviews', '4.6406 Ratings & 39 Reviews']\n"
     ]
    }
   ],
   "source": [
    "print(result)"
   ]
  },
  {
   "cell_type": "code",
   "execution_count": 33,
   "id": "e3174f5c",
   "metadata": {
    "ExecuteTime": {
     "end_time": "2022-03-19T20:28:19.312787Z",
     "start_time": "2022-03-19T20:28:17.870190Z"
    }
   },
   "outputs": [
    {
     "data": {
      "text/plain": [
       "{'rule_gq2r': ['APPLE iPhone SE (Red, 128 GB)',\n",
       "  'APPLE iPhone 13 (Midnight, 128 GB)',\n",
       "  'APPLE iPhone 13 (Starlight, 128 GB)',\n",
       "  'APPLE iPhone 13 (Blue, 128 GB)',\n",
       "  'APPLE iPhone SE (Red, 64 GB)',\n",
       "  'APPLE iPhone 12 Mini (Blue, 256 GB)',\n",
       "  'APPLE iPhone 12 Mini (Black, 256 GB)',\n",
       "  'APPLE iPhone 12 Mini (Purple, 256 GB)',\n",
       "  'APPLE iPhone 13 (Green, 128 GB)',\n",
       "  'APPLE iPhone SE (White, 64 GB)',\n",
       "  'APPLE iPhone 11 (Green, 64 GB)',\n",
       "  'APPLE iPhone SE (Black, 128 GB)',\n",
       "  'APPLE iPhone 12 Mini (Blue, 64 GB)',\n",
       "  'APPLE iPhone SE (White, 128 GB)',\n",
       "  'APPLE iPhone 13 (Midnight, 256 GB)',\n",
       "  'APPLE iPhone 11 (White, 128 GB)',\n",
       "  'APPLE iPhone 12 Mini (Green, 64 GB)',\n",
       "  'APPLE iPhone 12 Mini (Red, 256 GB)',\n",
       "  'APPLE iPhone 12 (Purple, 128 GB)',\n",
       "  'APPLE iPhone 11 (Red, 128 GB)',\n",
       "  'APPLE iPhone 12 Mini (Black, 64 GB)',\n",
       "  'APPLE iPhone 13 ((PRODUCT)RED, 256 GB)',\n",
       "  'APPLE iPhone 11 (Green, 128 GB)',\n",
       "  'APPLE iPhone 13 Mini (Midnight, 128 GB)'],\n",
       " 'rule_tt00': ['APPLE iPhone SE (Red, 128 GB)',\n",
       "  'APPLE iPhone 13 (Midnight, 128 GB)',\n",
       "  'APPLE iPhone 13 (Starlight, 128 GB)',\n",
       "  'APPLE iPhone 13 (Blue, 128 GB)',\n",
       "  'APPLE iPhone SE (Red, 64 GB)',\n",
       "  'APPLE iPhone 12 Mini (Blue, 256 GB)',\n",
       "  'APPLE iPhone 12 Mini (Black, 256 GB)',\n",
       "  'APPLE iPhone 12 Mini (Purple, 256 GB)',\n",
       "  'APPLE iPhone 13 (Green, 128 GB)',\n",
       "  'APPLE iPhone SE (White, 64 GB)',\n",
       "  'APPLE iPhone 11 (Green, 64 GB)',\n",
       "  'APPLE iPhone SE (Black, 128 GB)',\n",
       "  'APPLE iPhone 12 Mini (Blue, 64 GB)',\n",
       "  'APPLE iPhone SE (White, 128 GB)',\n",
       "  'APPLE iPhone 13 (Midnight, 256 GB)',\n",
       "  'APPLE iPhone 11 (White, 128 GB)',\n",
       "  'APPLE iPhone 12 Mini (Green, 64 GB)',\n",
       "  'APPLE iPhone 12 Mini (Red, 256 GB)',\n",
       "  'APPLE iPhone 12 (Purple, 128 GB)',\n",
       "  'APPLE iPhone 11 (Red, 128 GB)',\n",
       "  'APPLE iPhone 12 Mini (Black, 64 GB)',\n",
       "  'APPLE iPhone 13 ((PRODUCT)RED, 256 GB)',\n",
       "  'APPLE iPhone 11 (Green, 128 GB)',\n",
       "  'APPLE iPhone 13 Mini (Midnight, 128 GB)'],\n",
       " 'rule_vsim': ['₹34,999',\n",
       "  '₹74,900',\n",
       "  '₹74,900',\n",
       "  '₹74,900',\n",
       "  '₹30,299',\n",
       "  '₹65,299',\n",
       "  '₹65,299',\n",
       "  '₹65,299',\n",
       "  '₹74,900',\n",
       "  '₹30,299',\n",
       "  '₹49,900',\n",
       "  '₹34,999',\n",
       "  '₹49,999',\n",
       "  '₹34,999',\n",
       "  '₹84,900',\n",
       "  '₹54,900',\n",
       "  '₹49,999',\n",
       "  '₹65,299',\n",
       "  '₹65,071',\n",
       "  '₹54,900',\n",
       "  '₹49,999',\n",
       "  '₹84,900',\n",
       "  '₹54,900',\n",
       "  '₹64,900'],\n",
       " 'rule_tbv0': ['₹34,999',\n",
       "  '₹74,900',\n",
       "  '₹74,900',\n",
       "  '₹74,900',\n",
       "  '₹30,299',\n",
       "  '₹65,299',\n",
       "  '₹65,299',\n",
       "  '₹65,299',\n",
       "  '₹74,900',\n",
       "  '₹30,299',\n",
       "  '₹49,900',\n",
       "  '₹34,999',\n",
       "  '₹49,999',\n",
       "  '₹34,999',\n",
       "  '₹84,900',\n",
       "  '₹54,900',\n",
       "  '₹49,999',\n",
       "  '₹65,299',\n",
       "  '₹65,071',\n",
       "  '₹54,900',\n",
       "  '₹49,999',\n",
       "  '₹84,900',\n",
       "  '₹54,900',\n",
       "  '₹64,900'],\n",
       " 'rule_epeg': ['₹34,999',\n",
       "  '₹74,900',\n",
       "  '₹74,900',\n",
       "  '₹74,900',\n",
       "  '₹30,299',\n",
       "  '₹65,299',\n",
       "  '₹65,299',\n",
       "  '₹65,299',\n",
       "  '₹74,900',\n",
       "  '₹30,299',\n",
       "  '₹49,900',\n",
       "  '₹34,999',\n",
       "  '₹49,999',\n",
       "  '₹34,999',\n",
       "  '₹84,900',\n",
       "  '₹54,900',\n",
       "  '₹49,999',\n",
       "  '₹65,299',\n",
       "  '₹65,071',\n",
       "  '₹54,900',\n",
       "  '₹49,999',\n",
       "  '₹84,900',\n",
       "  '₹54,900',\n",
       "  '₹64,900'],\n",
       " 'rule_hasd': ['4.51,47,123 Ratings & 11,561 Reviews',\n",
       "  '4.62,825 Ratings & 322 Reviews',\n",
       "  '4.62,825 Ratings & 322 Reviews',\n",
       "  '4.62,825 Ratings & 322 Reviews',\n",
       "  '4.51,47,123 Ratings & 11,561 Reviews',\n",
       "  '4.594,599 Ratings & 7,709 Reviews',\n",
       "  '4.594,599 Ratings & 7,709 Reviews',\n",
       "  '4.594,599 Ratings & 7,709 Reviews',\n",
       "  '4.62,825 Ratings & 322 Reviews',\n",
       "  '4.51,47,123 Ratings & 11,561 Reviews',\n",
       "  '4.678,397 Ratings & 5,906 Reviews',\n",
       "  '4.51,47,123 Ratings & 11,561 Reviews',\n",
       "  '4.594,599 Ratings & 7,709 Reviews',\n",
       "  '4.51,47,123 Ratings & 11,561 Reviews',\n",
       "  '4.62,825 Ratings & 322 Reviews',\n",
       "  '4.678,397 Ratings & 5,906 Reviews',\n",
       "  '4.594,599 Ratings & 7,709 Reviews',\n",
       "  '4.594,599 Ratings & 7,709 Reviews',\n",
       "  '4.61,65,941 Ratings & 11,386 Reviews',\n",
       "  '4.678,397 Ratings & 5,906 Reviews',\n",
       "  '4.594,599 Ratings & 7,709 Reviews',\n",
       "  '4.62,825 Ratings & 322 Reviews',\n",
       "  '4.678,397 Ratings & 5,906 Reviews',\n",
       "  '4.6406 Ratings & 39 Reviews'],\n",
       " 'rule_gb04': ['4.51,47,123 Ratings & 11,561 Reviews',\n",
       "  '4.62,825 Ratings & 322 Reviews',\n",
       "  '4.62,825 Ratings & 322 Reviews',\n",
       "  '4.62,825 Ratings & 322 Reviews',\n",
       "  '4.51,47,123 Ratings & 11,561 Reviews',\n",
       "  '4.594,599 Ratings & 7,709 Reviews',\n",
       "  '4.594,599 Ratings & 7,709 Reviews',\n",
       "  '4.594,599 Ratings & 7,709 Reviews',\n",
       "  '4.62,825 Ratings & 322 Reviews',\n",
       "  '4.51,47,123 Ratings & 11,561 Reviews',\n",
       "  '4.678,397 Ratings & 5,906 Reviews',\n",
       "  '4.51,47,123 Ratings & 11,561 Reviews',\n",
       "  '4.594,599 Ratings & 7,709 Reviews',\n",
       "  '4.51,47,123 Ratings & 11,561 Reviews',\n",
       "  '4.62,825 Ratings & 322 Reviews',\n",
       "  '4.678,397 Ratings & 5,906 Reviews',\n",
       "  '4.594,599 Ratings & 7,709 Reviews',\n",
       "  '4.594,599 Ratings & 7,709 Reviews',\n",
       "  '4.61,65,941 Ratings & 11,386 Reviews',\n",
       "  '4.678,397 Ratings & 5,906 Reviews',\n",
       "  '4.594,599 Ratings & 7,709 Reviews',\n",
       "  '4.62,825 Ratings & 322 Reviews',\n",
       "  '4.678,397 Ratings & 5,906 Reviews',\n",
       "  '4.6406 Ratings & 39 Reviews'],\n",
       " 'rule_e881': ['4.51,47,123 Ratings & 11,561 Reviews',\n",
       "  '4.62,825 Ratings & 322 Reviews',\n",
       "  '4.62,825 Ratings & 322 Reviews',\n",
       "  '4.62,825 Ratings & 322 Reviews',\n",
       "  '4.51,47,123 Ratings & 11,561 Reviews',\n",
       "  '4.594,599 Ratings & 7,709 Reviews',\n",
       "  '4.594,599 Ratings & 7,709 Reviews',\n",
       "  '4.594,599 Ratings & 7,709 Reviews',\n",
       "  '4.62,825 Ratings & 322 Reviews',\n",
       "  '4.51,47,123 Ratings & 11,561 Reviews',\n",
       "  '4.678,397 Ratings & 5,906 Reviews',\n",
       "  '4.51,47,123 Ratings & 11,561 Reviews',\n",
       "  '4.594,599 Ratings & 7,709 Reviews',\n",
       "  '4.51,47,123 Ratings & 11,561 Reviews',\n",
       "  '4.62,825 Ratings & 322 Reviews',\n",
       "  '4.678,397 Ratings & 5,906 Reviews',\n",
       "  '4.594,599 Ratings & 7,709 Reviews',\n",
       "  '4.594,599 Ratings & 7,709 Reviews',\n",
       "  '4.61,65,941 Ratings & 11,386 Reviews',\n",
       "  '4.678,397 Ratings & 5,906 Reviews',\n",
       "  '4.594,599 Ratings & 7,709 Reviews',\n",
       "  '4.62,825 Ratings & 322 Reviews',\n",
       "  '4.678,397 Ratings & 5,906 Reviews',\n",
       "  '4.6406 Ratings & 39 Reviews'],\n",
       " 'rule_3ot7': ['4.51,47,123 Ratings & 11,561 Reviews',\n",
       "  '4.62,825 Ratings & 322 Reviews',\n",
       "  '4.62,825 Ratings & 322 Reviews',\n",
       "  '4.62,825 Ratings & 322 Reviews',\n",
       "  '4.51,47,123 Ratings & 11,561 Reviews',\n",
       "  '4.594,599 Ratings & 7,709 Reviews',\n",
       "  '4.594,599 Ratings & 7,709 Reviews',\n",
       "  '4.594,599 Ratings & 7,709 Reviews',\n",
       "  '4.62,825 Ratings & 322 Reviews',\n",
       "  '4.51,47,123 Ratings & 11,561 Reviews',\n",
       "  '4.678,397 Ratings & 5,906 Reviews',\n",
       "  '4.51,47,123 Ratings & 11,561 Reviews',\n",
       "  '4.594,599 Ratings & 7,709 Reviews',\n",
       "  '4.51,47,123 Ratings & 11,561 Reviews',\n",
       "  '4.62,825 Ratings & 322 Reviews',\n",
       "  '4.678,397 Ratings & 5,906 Reviews',\n",
       "  '4.594,599 Ratings & 7,709 Reviews',\n",
       "  '4.594,599 Ratings & 7,709 Reviews',\n",
       "  '4.61,65,941 Ratings & 11,386 Reviews',\n",
       "  '4.678,397 Ratings & 5,906 Reviews',\n",
       "  '4.594,599 Ratings & 7,709 Reviews',\n",
       "  '4.62,825 Ratings & 322 Reviews',\n",
       "  '4.678,397 Ratings & 5,906 Reviews',\n",
       "  '4.6406 Ratings & 39 Reviews'],\n",
       " 'rule_wrli': ['4.51,47,123 Ratings & 11,561 Reviews',\n",
       "  '4.62,825 Ratings & 322 Reviews',\n",
       "  '4.62,825 Ratings & 322 Reviews',\n",
       "  '4.62,825 Ratings & 322 Reviews',\n",
       "  '4.51,47,123 Ratings & 11,561 Reviews',\n",
       "  '4.594,599 Ratings & 7,709 Reviews',\n",
       "  '4.594,599 Ratings & 7,709 Reviews',\n",
       "  '4.594,599 Ratings & 7,709 Reviews',\n",
       "  '4.62,825 Ratings & 322 Reviews',\n",
       "  '4.51,47,123 Ratings & 11,561 Reviews',\n",
       "  '4.678,397 Ratings & 5,906 Reviews',\n",
       "  '4.51,47,123 Ratings & 11,561 Reviews',\n",
       "  '4.594,599 Ratings & 7,709 Reviews',\n",
       "  '4.51,47,123 Ratings & 11,561 Reviews',\n",
       "  '4.62,825 Ratings & 322 Reviews',\n",
       "  '4.678,397 Ratings & 5,906 Reviews',\n",
       "  '4.594,599 Ratings & 7,709 Reviews',\n",
       "  '4.594,599 Ratings & 7,709 Reviews',\n",
       "  '4.61,65,941 Ratings & 11,386 Reviews',\n",
       "  '4.678,397 Ratings & 5,906 Reviews',\n",
       "  '4.594,599 Ratings & 7,709 Reviews',\n",
       "  '4.62,825 Ratings & 322 Reviews',\n",
       "  '4.678,397 Ratings & 5,906 Reviews',\n",
       "  '4.6406 Ratings & 39 Reviews']}"
      ]
     },
     "execution_count": 33,
     "metadata": {},
     "output_type": "execute_result"
    }
   ],
   "source": [
    "scraper.get_result_similar(flipkart_url, grouped=True)"
   ]
  },
  {
   "cell_type": "code",
   "execution_count": 35,
   "id": "4f1fe913",
   "metadata": {
    "ExecuteTime": {
     "end_time": "2022-03-19T20:35:06.871040Z",
     "start_time": "2022-03-19T20:35:06.861966Z"
    }
   },
   "outputs": [],
   "source": [
    "scraper.set_rule_aliases({\"rule_gq2r\":\"Title\",\"rule_vsim\":\"Price\"})\n",
    "scraper.keep_rules([\"rule_gq2r\",\"rule_vsim\"])\n",
    "scraper.save(\"flipkart_search\")"
   ]
  },
  {
   "cell_type": "code",
   "execution_count": 38,
   "id": "825c7675",
   "metadata": {
    "ExecuteTime": {
     "end_time": "2022-03-19T20:38:07.135399Z",
     "start_time": "2022-03-19T20:38:05.589659Z"
    }
   },
   "outputs": [],
   "source": [
    "samsung = scraper.get_result_similar(\"https://www.flipkart.com/search?q=samsung&otracker=search&otracker1=search&marketplace=FLIPKART&as-show=on&as=off\", group_by_alias=True)"
   ]
  },
  {
   "cell_type": "code",
   "execution_count": 39,
   "id": "4b48729a",
   "metadata": {
    "ExecuteTime": {
     "end_time": "2022-03-19T20:38:10.877173Z",
     "start_time": "2022-03-19T20:38:10.864157Z"
    }
   },
   "outputs": [
    {
     "name": "stdout",
     "output_type": "stream",
     "text": [
      "{'Title': ['SAMSUNG Galaxy F12 (Sky Blue, 64 GB)', 'SAMSUNG Galaxy F12 (Sea Green, 64 GB)', 'SAMSUNG Galaxy F23 5G (Aqua Blue, 128 GB)', 'SAMSUNG Galaxy F23 5G (Forest Green, 128 GB)', 'SAMSUNG Galaxy F12 (Celestial Black, 64 GB)', 'SAMSUNG Galaxy M12 (Blue, 128 GB)', 'SAMSUNG Galaxy F22 (Denim Blue, 128 GB)', 'SAMSUNG Galaxy F22 (Denim Black, 128 GB)', 'SAMSUNG Galaxy F23 5G (Forest Green, 128 GB)', 'SAMSUNG Galaxy F22 (Denim Blue, 64 GB)', 'SAMSUNG Galaxy F23 5G (Aqua Blue, 128 GB)', 'SAMSUNG Galaxy F12 (Sea Green, 128 GB)', 'SAMSUNG Galaxy F12 (Sky Blue, 128 GB)', 'SAMSUNG Galaxy F22 (Denim Black, 64 GB)', 'SAMSUNG Galaxy M12 (Black, 128 GB)', 'SAMSUNG Galaxy M12 (Black, 64 GB)', 'SAMSUNG Galaxy A52 (Awesome Blue, 128 GB)', 'SAMSUNG M21 2021 Edition (Arctic blue, 64 GB)', 'SAMSUNG Galaxy M12 (Blue, 64 GB)', 'SAMSUNG Guru Music 2 SM-B315E', 'SAMSUNG Galaxy M12 (White, 128 GB)', 'SAMSUNG GURU MUSIC 2', 'SAMSUNG M32 5G (Slate Black, 128 GB)', 'SAMSUNG Galaxy M32 5G (Sky Blue, 128 GB)'], 'Price': ['₹11,499', '₹11,499', '₹16,999', '₹16,999', '₹11,499', '₹12,485', '₹14,999', '₹14,999', '₹15,999', '₹12,999', '₹15,999', '₹12,499', '₹12,499', '₹12,999', '₹12,450', '₹10,469', '₹25,990', '₹12,772', '₹10,549', '₹2,020', '₹12,547', '₹2,020', '₹17,799', '₹20,350']}\n"
     ]
    }
   ],
   "source": [
    "print(samsung)"
   ]
  },
  {
   "cell_type": "code",
   "execution_count": 40,
   "id": "3d4f9d2f",
   "metadata": {
    "ExecuteTime": {
     "end_time": "2022-03-19T20:39:10.761431Z",
     "start_time": "2022-03-19T20:39:04.092487Z"
    }
   },
   "outputs": [],
   "source": [
    "import pandas as pd\n",
    "import numpy as np"
   ]
  },
  {
   "cell_type": "code",
   "execution_count": 46,
   "id": "4da70c59",
   "metadata": {
    "ExecuteTime": {
     "end_time": "2022-03-19T20:40:36.865619Z",
     "start_time": "2022-03-19T20:40:36.844676Z"
    }
   },
   "outputs": [],
   "source": [
    "df = pd.DataFrame(samsung, columns=[\"Title\", \"Price\"])"
   ]
  },
  {
   "cell_type": "code",
   "execution_count": 47,
   "id": "7b0f9423",
   "metadata": {
    "ExecuteTime": {
     "end_time": "2022-03-19T20:40:37.351248Z",
     "start_time": "2022-03-19T20:40:37.331336Z"
    }
   },
   "outputs": [
    {
     "data": {
      "text/html": [
       "<div>\n",
       "<style scoped>\n",
       "    .dataframe tbody tr th:only-of-type {\n",
       "        vertical-align: middle;\n",
       "    }\n",
       "\n",
       "    .dataframe tbody tr th {\n",
       "        vertical-align: top;\n",
       "    }\n",
       "\n",
       "    .dataframe thead th {\n",
       "        text-align: right;\n",
       "    }\n",
       "</style>\n",
       "<table border=\"1\" class=\"dataframe\">\n",
       "  <thead>\n",
       "    <tr style=\"text-align: right;\">\n",
       "      <th></th>\n",
       "      <th>Title</th>\n",
       "      <th>Price</th>\n",
       "    </tr>\n",
       "  </thead>\n",
       "  <tbody>\n",
       "    <tr>\n",
       "      <th>0</th>\n",
       "      <td>SAMSUNG Galaxy F12 (Sky Blue, 64 GB)</td>\n",
       "      <td>₹11,499</td>\n",
       "    </tr>\n",
       "    <tr>\n",
       "      <th>1</th>\n",
       "      <td>SAMSUNG Galaxy F12 (Sea Green, 64 GB)</td>\n",
       "      <td>₹11,499</td>\n",
       "    </tr>\n",
       "    <tr>\n",
       "      <th>2</th>\n",
       "      <td>SAMSUNG Galaxy F23 5G (Aqua Blue, 128 GB)</td>\n",
       "      <td>₹16,999</td>\n",
       "    </tr>\n",
       "    <tr>\n",
       "      <th>3</th>\n",
       "      <td>SAMSUNG Galaxy F23 5G (Forest Green, 128 GB)</td>\n",
       "      <td>₹16,999</td>\n",
       "    </tr>\n",
       "    <tr>\n",
       "      <th>4</th>\n",
       "      <td>SAMSUNG Galaxy F12 (Celestial Black, 64 GB)</td>\n",
       "      <td>₹11,499</td>\n",
       "    </tr>\n",
       "    <tr>\n",
       "      <th>5</th>\n",
       "      <td>SAMSUNG Galaxy M12 (Blue, 128 GB)</td>\n",
       "      <td>₹12,485</td>\n",
       "    </tr>\n",
       "    <tr>\n",
       "      <th>6</th>\n",
       "      <td>SAMSUNG Galaxy F22 (Denim Blue, 128 GB)</td>\n",
       "      <td>₹14,999</td>\n",
       "    </tr>\n",
       "    <tr>\n",
       "      <th>7</th>\n",
       "      <td>SAMSUNG Galaxy F22 (Denim Black, 128 GB)</td>\n",
       "      <td>₹14,999</td>\n",
       "    </tr>\n",
       "    <tr>\n",
       "      <th>8</th>\n",
       "      <td>SAMSUNG Galaxy F23 5G (Forest Green, 128 GB)</td>\n",
       "      <td>₹15,999</td>\n",
       "    </tr>\n",
       "    <tr>\n",
       "      <th>9</th>\n",
       "      <td>SAMSUNG Galaxy F22 (Denim Blue, 64 GB)</td>\n",
       "      <td>₹12,999</td>\n",
       "    </tr>\n",
       "    <tr>\n",
       "      <th>10</th>\n",
       "      <td>SAMSUNG Galaxy F23 5G (Aqua Blue, 128 GB)</td>\n",
       "      <td>₹15,999</td>\n",
       "    </tr>\n",
       "    <tr>\n",
       "      <th>11</th>\n",
       "      <td>SAMSUNG Galaxy F12 (Sea Green, 128 GB)</td>\n",
       "      <td>₹12,499</td>\n",
       "    </tr>\n",
       "    <tr>\n",
       "      <th>12</th>\n",
       "      <td>SAMSUNG Galaxy F12 (Sky Blue, 128 GB)</td>\n",
       "      <td>₹12,499</td>\n",
       "    </tr>\n",
       "    <tr>\n",
       "      <th>13</th>\n",
       "      <td>SAMSUNG Galaxy F22 (Denim Black, 64 GB)</td>\n",
       "      <td>₹12,999</td>\n",
       "    </tr>\n",
       "    <tr>\n",
       "      <th>14</th>\n",
       "      <td>SAMSUNG Galaxy M12 (Black, 128 GB)</td>\n",
       "      <td>₹12,450</td>\n",
       "    </tr>\n",
       "    <tr>\n",
       "      <th>15</th>\n",
       "      <td>SAMSUNG Galaxy M12 (Black, 64 GB)</td>\n",
       "      <td>₹10,469</td>\n",
       "    </tr>\n",
       "    <tr>\n",
       "      <th>16</th>\n",
       "      <td>SAMSUNG Galaxy A52 (Awesome Blue, 128 GB)</td>\n",
       "      <td>₹25,990</td>\n",
       "    </tr>\n",
       "    <tr>\n",
       "      <th>17</th>\n",
       "      <td>SAMSUNG M21 2021 Edition (Arctic blue, 64 GB)</td>\n",
       "      <td>₹12,772</td>\n",
       "    </tr>\n",
       "    <tr>\n",
       "      <th>18</th>\n",
       "      <td>SAMSUNG Galaxy M12 (Blue, 64 GB)</td>\n",
       "      <td>₹10,549</td>\n",
       "    </tr>\n",
       "    <tr>\n",
       "      <th>19</th>\n",
       "      <td>SAMSUNG Guru Music 2 SM-B315E</td>\n",
       "      <td>₹2,020</td>\n",
       "    </tr>\n",
       "    <tr>\n",
       "      <th>20</th>\n",
       "      <td>SAMSUNG Galaxy M12 (White, 128 GB)</td>\n",
       "      <td>₹12,547</td>\n",
       "    </tr>\n",
       "    <tr>\n",
       "      <th>21</th>\n",
       "      <td>SAMSUNG GURU MUSIC 2</td>\n",
       "      <td>₹2,020</td>\n",
       "    </tr>\n",
       "    <tr>\n",
       "      <th>22</th>\n",
       "      <td>SAMSUNG M32 5G (Slate Black, 128 GB)</td>\n",
       "      <td>₹17,799</td>\n",
       "    </tr>\n",
       "    <tr>\n",
       "      <th>23</th>\n",
       "      <td>SAMSUNG Galaxy M32 5G (Sky Blue, 128 GB)</td>\n",
       "      <td>₹20,350</td>\n",
       "    </tr>\n",
       "  </tbody>\n",
       "</table>\n",
       "</div>"
      ],
      "text/plain": [
       "                                            Title    Price\n",
       "0            SAMSUNG Galaxy F12 (Sky Blue, 64 GB)  ₹11,499\n",
       "1           SAMSUNG Galaxy F12 (Sea Green, 64 GB)  ₹11,499\n",
       "2       SAMSUNG Galaxy F23 5G (Aqua Blue, 128 GB)  ₹16,999\n",
       "3    SAMSUNG Galaxy F23 5G (Forest Green, 128 GB)  ₹16,999\n",
       "4     SAMSUNG Galaxy F12 (Celestial Black, 64 GB)  ₹11,499\n",
       "5               SAMSUNG Galaxy M12 (Blue, 128 GB)  ₹12,485\n",
       "6         SAMSUNG Galaxy F22 (Denim Blue, 128 GB)  ₹14,999\n",
       "7        SAMSUNG Galaxy F22 (Denim Black, 128 GB)  ₹14,999\n",
       "8    SAMSUNG Galaxy F23 5G (Forest Green, 128 GB)  ₹15,999\n",
       "9          SAMSUNG Galaxy F22 (Denim Blue, 64 GB)  ₹12,999\n",
       "10      SAMSUNG Galaxy F23 5G (Aqua Blue, 128 GB)  ₹15,999\n",
       "11         SAMSUNG Galaxy F12 (Sea Green, 128 GB)  ₹12,499\n",
       "12          SAMSUNG Galaxy F12 (Sky Blue, 128 GB)  ₹12,499\n",
       "13        SAMSUNG Galaxy F22 (Denim Black, 64 GB)  ₹12,999\n",
       "14             SAMSUNG Galaxy M12 (Black, 128 GB)  ₹12,450\n",
       "15              SAMSUNG Galaxy M12 (Black, 64 GB)  ₹10,469\n",
       "16      SAMSUNG Galaxy A52 (Awesome Blue, 128 GB)  ₹25,990\n",
       "17  SAMSUNG M21 2021 Edition (Arctic blue, 64 GB)  ₹12,772\n",
       "18               SAMSUNG Galaxy M12 (Blue, 64 GB)  ₹10,549\n",
       "19                  SAMSUNG Guru Music 2 SM-B315E   ₹2,020\n",
       "20             SAMSUNG Galaxy M12 (White, 128 GB)  ₹12,547\n",
       "21                           SAMSUNG GURU MUSIC 2   ₹2,020\n",
       "22           SAMSUNG M32 5G (Slate Black, 128 GB)  ₹17,799\n",
       "23       SAMSUNG Galaxy M32 5G (Sky Blue, 128 GB)  ₹20,350"
      ]
     },
     "execution_count": 47,
     "metadata": {},
     "output_type": "execute_result"
    }
   ],
   "source": [
    "df"
   ]
  },
  {
   "cell_type": "code",
   "execution_count": null,
   "id": "9b1da1c8",
   "metadata": {},
   "outputs": [],
   "source": []
  }
 ],
 "metadata": {
  "kernelspec": {
   "display_name": "Python 3",
   "language": "python",
   "name": "python3"
  },
  "language_info": {
   "codemirror_mode": {
    "name": "ipython",
    "version": 3
   },
   "file_extension": ".py",
   "mimetype": "text/x-python",
   "name": "python",
   "nbconvert_exporter": "python",
   "pygments_lexer": "ipython3",
   "version": "3.8.8"
  }
 },
 "nbformat": 4,
 "nbformat_minor": 5
}
